{
  "nbformat": 4,
  "nbformat_minor": 0,
  "metadata": {
    "colab": {
      "provenance": [],
      "include_colab_link": true
    },
    "kernelspec": {
      "name": "python3",
      "display_name": "Python 3"
    },
    "language_info": {
      "name": "python"
    }
  },
  "cells": [
    {
      "cell_type": "markdown",
      "metadata": {
        "id": "view-in-github",
        "colab_type": "text"
      },
      "source": [
        "<a href=\"https://colab.research.google.com/github/avi78/DS_using_python/blob/main/_Sales_DS.ipynb\" target=\"_parent\"><img src=\"https://colab.research.google.com/assets/colab-badge.svg\" alt=\"Open In Colab\"/></a>"
      ]
    },
    {
      "cell_type": "code",
      "execution_count": null,
      "metadata": {
        "colab": {
          "base_uri": "https://localhost:8080/"
        },
        "id": "Dlum4UIpGwGK",
        "outputId": "259e9365-5ce0-49d2-d941-057ca56b896b"
      },
      "outputs": [
        {
          "output_type": "stream",
          "name": "stdout",
          "text": [
            "        date product  revenue\n",
            "0 2024-03-19       A      602\n",
            "1 2024-03-26       B      782\n",
            "2 2024-03-01       C      370\n",
            "3 2024-03-03       A      332\n",
            "4 2024-03-25       C      733\n",
            "5 2024-03-07       C      277\n",
            "6 2024-03-21       A      467\n",
            "7 2024-03-21       C      961\n",
            "8 2024-03-20       A      874\n",
            "9 2024-03-17       C      348\n"
          ]
        }
      ],
      "source": [
        "import pandas as pd\n",
        "import random\n",
        "from datetime import datetime,timedelta\n",
        "\n",
        "data = {\n",
        "    'date': [datetime(2024,3,random.randint(1,31)) for _ in range(10)],\n",
        "    'product': [random.choice(['A','B','C']) for _ in range(10)],\n",
        "    'revenue': [random.randint(100,1000) for _ in range(10)]\n",
        "}\n",
        "\n",
        "sales_df =pd.DataFrame(data)\n",
        "print(sales_df)"
      ]
    },
    {
      "cell_type": "code",
      "source": [
        "sales_df.to_csv('sales_data.csv',index=False)"
      ],
      "metadata": {
        "id": "hL2iFlkpIAie"
      },
      "execution_count": null,
      "outputs": []
    },
    {
      "cell_type": "code",
      "source": [
        "import pandas as pd\n",
        "sales_df = pd.read_csv('sales_data.csv')\n",
        "total_revenue = sales_df['revenue'].sum()\n",
        "print(\"Total revenue generated: \",total_revenue)"
      ],
      "metadata": {
        "colab": {
          "base_uri": "https://localhost:8080/"
        },
        "id": "2Ap1iuZ6IdYL",
        "outputId": "22682c81-3e75-4596-f937-39796a71022c"
      },
      "execution_count": null,
      "outputs": [
        {
          "output_type": "stream",
          "name": "stdout",
          "text": [
            "Total revenue generated:  5746\n"
          ]
        }
      ]
    },
    {
      "cell_type": "code",
      "source": [],
      "metadata": {
        "id": "8cEioNGhJAkP"
      },
      "execution_count": null,
      "outputs": []
    }
  ]
}