{
  "nbformat": 4,
  "nbformat_minor": 0,
  "metadata": {
    "colab": {
      "provenance": [],
      "include_colab_link": true
    },
    "kernelspec": {
      "name": "python3",
      "display_name": "Python 3"
    },
    "language_info": {
      "name": "python"
    }
  },
  "cells": [
    {
      "cell_type": "markdown",
      "metadata": {
        "id": "view-in-github",
        "colab_type": "text"
      },
      "source": [
        "<a href=\"https://colab.research.google.com/github/avi78/DS_using_python/blob/main/Emails_DS.ipynb\" target=\"_parent\"><img src=\"https://colab.research.google.com/assets/colab-badge.svg\" alt=\"Open In Colab\"/></a>"
      ]
    },
    {
      "cell_type": "code",
      "execution_count": 6,
      "metadata": {
        "colab": {
          "base_uri": "https://localhost:8080/"
        },
        "id": "Dlum4UIpGwGK",
        "outputId": "759fd7d8-3863-42a5-d778-d1babcb3d89d"
      },
      "outputs": [
        {
          "output_type": "stream",
          "name": "stdout",
          "text": [
            "    user_id          user_email\n",
            "0         1  g2u069c2@gmail.com\n",
            "1         2  9ek4qpem@gmail.com\n",
            "2         3  79knzot3@gmail.com\n",
            "3         4  sptl2zr3@gmail.com\n",
            "4         5  k32mepod@gmail.com\n",
            "5         6  dz2o8z7w@gmail.com\n",
            "6         7  24mzgiqr@gmail.com\n",
            "7         8  f2k1ep69@gmail.com\n",
            "8         9                    \n",
            "9        10                    \n",
            "10       11  nskcteup@gmail.com\n",
            "11       12  3i5qg1fo@gmail.com\n",
            "12       13  96sef7rr@gmail.com\n",
            "13       14  q4cj833s@gmail.com\n",
            "14       15  ul7yx11c@gmail.com\n"
          ]
        }
      ],
      "source": [
        "import pandas as pd\n",
        "import random\n",
        "import string\n",
        "\n",
        "data = {\n",
        "    'user_id': range(1,16),\n",
        "    'user_email': [''.join(random.choices(string.ascii_lowercase + string.digits, k=8)) + '@gmail.com' if random.random() > 0.2 else '' for _ in range(15)]  # Generate random email addresses\n",
        "}\n",
        "\n",
        "df = pd.DataFrame(data)\n",
        "print(df)\n"
      ]
    },
    {
      "cell_type": "code",
      "source": [
        "df.to_csv('user_data.csv', index=False)"
      ],
      "metadata": {
        "id": "hL2iFlkpIAie"
      },
      "execution_count": 7,
      "outputs": []
    },
    {
      "cell_type": "code",
      "source": [
        "# Remove missing values\n",
        "df = df.dropna(subset=['user_email'])\n",
        "\n",
        "# Keep only emails ending with '@gmail.com'\n",
        "df = df[df['user_email'].str.endswith('@gmail.com')]\n",
        "\n",
        "print(df)"
      ],
      "metadata": {
        "colab": {
          "base_uri": "https://localhost:8080/"
        },
        "id": "2Ap1iuZ6IdYL",
        "outputId": "4cffa5bf-2aec-4ce3-c204-4c8db74ccce8"
      },
      "execution_count": 8,
      "outputs": [
        {
          "output_type": "stream",
          "name": "stdout",
          "text": [
            "    user_id          user_email\n",
            "0         1  g2u069c2@gmail.com\n",
            "1         2  9ek4qpem@gmail.com\n",
            "2         3  79knzot3@gmail.com\n",
            "3         4  sptl2zr3@gmail.com\n",
            "4         5  k32mepod@gmail.com\n",
            "5         6  dz2o8z7w@gmail.com\n",
            "6         7  24mzgiqr@gmail.com\n",
            "7         8  f2k1ep69@gmail.com\n",
            "10       11  nskcteup@gmail.com\n",
            "11       12  3i5qg1fo@gmail.com\n",
            "12       13  96sef7rr@gmail.com\n",
            "13       14  q4cj833s@gmail.com\n",
            "14       15  ul7yx11c@gmail.com\n"
          ]
        }
      ]
    },
    {
      "cell_type": "code",
      "source": [],
      "metadata": {
        "id": "8cEioNGhJAkP"
      },
      "execution_count": null,
      "outputs": []
    }
  ]
}