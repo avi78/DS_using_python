{
  "nbformat": 4,
  "nbformat_minor": 0,
  "metadata": {
    "colab": {
      "provenance": [],
      "authorship_tag": "ABX9TyPRshDeAbQ75oCgpGNXB0qn",
      "include_colab_link": true
    },
    "kernelspec": {
      "name": "python3",
      "display_name": "Python 3"
    },
    "language_info": {
      "name": "python"
    }
  },
  "cells": [
    {
      "cell_type": "markdown",
      "metadata": {
        "id": "view-in-github",
        "colab_type": "text"
      },
      "source": [
        "<a href=\"https://colab.research.google.com/github/avi78/DS_using_python/blob/main/DS_WITH_PYTHON_20THMARCH24.ipynb\" target=\"_parent\"><img src=\"https://colab.research.google.com/assets/colab-badge.svg\" alt=\"Open In Colab\"/></a>"
      ]
    },
    {
      "cell_type": "code",
      "execution_count": null,
      "metadata": {
        "colab": {
          "base_uri": "https://localhost:8080/"
        },
        "id": "iUL-zjx6wO3a",
        "outputId": "65f33c86-abd3-4147-bec4-7603b3a59b0d"
      },
      "outputs": [
        {
          "output_type": "stream",
          "name": "stdout",
          "text": [
            "{'Alice': 81.67, 'Bob': 88.33, 'Charlie': 70.0}\n"
          ]
        }
      ],
      "source": [
        "# 1) Developing a system to track student performamce in various subjects. Each student data is represented by a dictionary where the keys are subject names and values are list of their scores in those subjects. Wap function to find the average score of each student.\n",
        "def average_scores(students):\n",
        "    average_scores_dict = {}\n",
        "    for student, scores in students.items():\n",
        "        average_score = sum(scores) / len(scores)\n",
        "        average_scores_dict[student] = round(average_score, 2)\n",
        "    return average_scores_dict\n",
        "\n",
        "# data assumed\n",
        "students_data = {\n",
        "    'Alice': [80, 75, 90],\n",
        "    'Bob': [85, 88, 92],\n",
        "    'Charlie': [70, 65, 75]\n",
        "}\n",
        "\n",
        "print(average_scores(students_data))\n"
      ]
    },
    {
      "cell_type": "code",
      "source": [
        "# 2) Developing an online shoping system where users can purchase items from various catagories. Each item is represented by a tuple containing name, price, quantity available and catagory. Users can add items to the cart which is represented as a list if tuples containing item details and quantity. Wap function to calculate the total cost of items in the users cart, considering any discounts applicable based on the total quantity purchased.\n",
        "def calculate_total_cost(cart):\n",
        "    total_cost = 0\n",
        "    for item in cart:\n",
        "        item_name, price, quantity_available, category = item\n",
        "        total_cost += price * min(quantity_available, item[2])\n",
        "    return total_cost\n",
        "\n",
        "# data assumed\n",
        "cart = [\n",
        "    ('Item1', 10, 5, 'Category1'),\n",
        "    ('Item2', 20, 3, 'Category2'),\n",
        "    ('Item3', 15, 7, 'Category1')\n",
        "]\n",
        "\n",
        "print(\"Total cost: \",calculate_total_cost(cart))\n",
        "\n"
      ],
      "metadata": {
        "colab": {
          "base_uri": "https://localhost:8080/"
        },
        "id": "HvQD5hXmwaEq",
        "outputId": "2aaca156-4a60-40d0-fb13-c8ffbdf2ec98"
      },
      "execution_count": null,
      "outputs": [
        {
          "output_type": "stream",
          "name": "stdout",
          "text": [
            "Total cost:  215\n"
          ]
        }
      ]
    },
    {
      "cell_type": "code",
      "source": [
        "# 3) You are tasked with analysing weather data collected over several years n each years fata is stored as a list of daily temp readings. Each daily temp reading is itself a list containing hourly temp measurements. Wap function to find the average temp fr each day for all years. (Min 5 yrs)\n",
        "def average_daily_temp_for_all_years(temperature_data):\n",
        "    num_years = len(temperature_data)\n",
        "    num_days = len(temperature_data[0])\n",
        "\n",
        "    daily_avg_temp = []\n",
        "\n",
        "    for day_index in range(num_days):\n",
        "        daily_temp_sum = 0\n",
        "        for year_temps in temperature_data:\n",
        "            daily_temp_sum += sum(year_temps[day_index]) / len(year_temps[day_index])  # Average temperature for the day\n",
        "        daily_avg_temp.append(daily_temp_sum / num_years)  # Average temperature across all years for the day\n",
        "\n",
        "    return daily_avg_temp\n",
        "\n",
        "# data assumed\n",
        "temperature_data = [\n",
        "    [[10, 12, 13, 15], [11, 13, 14, 16], [9, 11, 12, 13]],\n",
        "    [[8, 10, 11, 12], [9, 11, 12, 13], [7, 9, 10, 11]],\n",
        "    [[13, 15, 16, 17], [14, 16, 17, 18], [12, 14, 15, 16]],\n",
        "    [[7, 9, 10, 11], [8, 10, 11, 12], [6, 8, 9, 10]],\n",
        "    [[11, 13, 14, 15], [12, 14, 15, 16], [10, 12, 13, 14]]\n",
        "]\n",
        "\n",
        "print(average_daily_temp_for_all_years(temperature_data))\n"
      ],
      "metadata": {
        "colab": {
          "base_uri": "https://localhost:8080/"
        },
        "id": "cJPUfsFkxMbd",
        "outputId": "4930f45a-c888-47dd-d484-abd39bb1477e"
      },
      "execution_count": null,
      "outputs": [
        {
          "output_type": "stream",
          "name": "stdout",
          "text": [
            "[12.1, 13.1, 11.05]\n"
          ]
        }
      ]
    },
    {
      "cell_type": "code",
      "source": [
        "# 21st march class assignments\n",
        "import numpy as np"
      ],
      "metadata": {
        "id": "pB8OLPLiyzCb"
      },
      "execution_count": null,
      "outputs": []
    },
    {
      "cell_type": "code",
      "source": [
        "# Question 1: Reshaping matrices A and B for matrix multiplication\n",
        "A = np.array([[1], [2], [3]])  # Shape (3,1)\n",
        "B = np.array([[4, 5, 6, 7]])   # Shape (1,4)\n",
        "\n",
        "# Reshape A and B for matrix multiplication\n",
        "A_reshaped = A.reshape(3,)  # Reshaping A to (3,)\n",
        "B_reshaped = B.reshape(4,)  # Reshaping B to (4,)\n",
        "\n",
        "# Perform matrix multiplication\n",
        "result = np.dot(A_reshaped[:, np.newaxis], B_reshaped[np.newaxis, :])  # 3 x 4 matrix\n",
        "print(\"Matrix Multiplication Result:\", result)"
      ],
      "metadata": {
        "colab": {
          "base_uri": "https://localhost:8080/"
        },
        "id": "a6NFGVHolH2W",
        "outputId": "7a3a69c9-ab4c-4689-a7b1-38942a84d2d6"
      },
      "execution_count": null,
      "outputs": [
        {
          "output_type": "stream",
          "name": "stdout",
          "text": [
            "Matrix Multiplication Result: [[ 4  5  6  7]\n",
            " [ 8 10 12 14]\n",
            " [12 15 18 21]]\n"
          ]
        }
      ]
    },
    {
      "cell_type": "code",
      "source": [
        "# Question 2: Flattening a square matrix to a 1D array\n",
        "square_matrix = np.array([[1, 2, 3],\n",
        "                          [4, 5, 6],\n",
        "                          [7, 8, 9]])\n",
        "\n",
        "# Flatten the square matrix to a 1D array\n",
        "flattened_array = square_matrix.reshape(-1)\n",
        "print(\"Flattened Array:\", flattened_array)"
      ],
      "metadata": {
        "colab": {
          "base_uri": "https://localhost:8080/"
        },
        "id": "5pEWom_dlNg0",
        "outputId": "192e923a-5667-4179-cf3d-fa38531134ff"
      },
      "execution_count": null,
      "outputs": [
        {
          "output_type": "stream",
          "name": "stdout",
          "text": [
            "Flattened Array: [1 2 3 4 5 6 7 8 9]\n"
          ]
        }
      ]
    },
    {
      "cell_type": "code",
      "source": [
        "# Question 3: Calculating average temperature recorded by each sensor\n",
        "# Suppose data is a 2D numpy array with shape (n_days, n_sensors)\n",
        "# Let's assume a sample array for demonstration\n",
        "data = np.array([[20, 22, 23],  # Temperatures for Day 1\n",
        "                 [21, 24, 25],  # Temperatures for Day 2\n",
        "                 [19, 23, 24],  # Temperatures for Day 3\n",
        "                 [22, 25, 26]]) # Temperatures for Day 4\n",
        "\n",
        "# Calculate average temperature recorded by each sensor\n",
        "average_temperatures = np.mean(data, axis=0)\n",
        "print(\"Average Temperatures Recorded by Each Sensor:\", average_temperatures)"
      ],
      "metadata": {
        "colab": {
          "base_uri": "https://localhost:8080/"
        },
        "id": "g9rH430zlSMa",
        "outputId": "48c10772-3ef0-4269-f3e6-5d36b671cc61"
      },
      "execution_count": null,
      "outputs": [
        {
          "output_type": "stream",
          "name": "stdout",
          "text": [
            "Average Temperatures Recorded by Each Sensor: [20.5 23.5 24.5]\n"
          ]
        }
      ]
    },
    {
      "cell_type": "code",
      "source": [],
      "metadata": {
        "id": "zCeRqsmflSuN"
      },
      "execution_count": null,
      "outputs": []
    }
  ]
}